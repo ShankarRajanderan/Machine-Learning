{
 "cells": [
  {
   "cell_type": "code",
   "execution_count": 17,
   "id": "200cb396",
   "metadata": {},
   "outputs": [],
   "source": [
    "import pandas as pd"
   ]
  },
  {
   "cell_type": "code",
   "execution_count": 18,
   "id": "c5d26af9",
   "metadata": {},
   "outputs": [],
   "source": [
    "import sklearn"
   ]
  },
  {
   "cell_type": "code",
   "execution_count": 19,
   "id": "9e4f29c8",
   "metadata": {},
   "outputs": [],
   "source": [
    "df = pd.read_csv('Music.csv')"
   ]
  },
  {
   "cell_type": "code",
   "execution_count": 20,
   "id": "fbea79c1",
   "metadata": {},
   "outputs": [],
   "source": [
    "#drop columns"
   ]
  },
  {
   "cell_type": "code",
   "execution_count": 21,
   "id": "d61d2b00",
   "metadata": {},
   "outputs": [],
   "source": [
    "#separate dataset"
   ]
  },
  {
   "cell_type": "code",
   "execution_count": 22,
   "id": "e4f31f0e",
   "metadata": {},
   "outputs": [],
   "source": [
    "df_music = df.drop(columns = ['genre'])"
   ]
  },
  {
   "cell_type": "code",
   "execution_count": 23,
   "id": "27b5ecad",
   "metadata": {},
   "outputs": [],
   "source": [
    "df_genre = df['genre']"
   ]
  },
  {
   "cell_type": "code",
   "execution_count": 24,
   "id": "28453ccc",
   "metadata": {},
   "outputs": [],
   "source": [
    "#build a model"
   ]
  },
  {
   "cell_type": "code",
   "execution_count": 25,
   "id": "7c896062",
   "metadata": {},
   "outputs": [],
   "source": [
    "from sklearn.tree import DecisionTreeClassifier"
   ]
  },
  {
   "cell_type": "code",
   "execution_count": 26,
   "id": "4fe5e9df",
   "metadata": {},
   "outputs": [],
   "source": [
    "from sklearn import tree"
   ]
  },
  {
   "cell_type": "code",
   "execution_count": 27,
   "id": "8d4eb05f",
   "metadata": {},
   "outputs": [],
   "source": [
    "test_model = DecisionTreeClassifier()\n",
    "test_model.fit(df_music, df_genre)\n",
    "\n",
    "tree.export_graphviz(test_model, out_file = 'music_recommender.dot', feature_names = ['age', 'gender'], \n",
    "                     class_names = sorted(df_genre.unique()), label = 'all', rounded = True, filled = True)"
   ]
  },
  {
   "cell_type": "code",
   "execution_count": null,
   "id": "6a1eb283",
   "metadata": {},
   "outputs": [],
   "source": []
  }
 ],
 "metadata": {
  "kernelspec": {
   "display_name": "Python 3 (ipykernel)",
   "language": "python",
   "name": "python3"
  },
  "language_info": {
   "codemirror_mode": {
    "name": "ipython",
    "version": 3
   },
   "file_extension": ".py",
   "mimetype": "text/x-python",
   "name": "python",
   "nbconvert_exporter": "python",
   "pygments_lexer": "ipython3",
   "version": "3.11.7"
  }
 },
 "nbformat": 4,
 "nbformat_minor": 5
}
