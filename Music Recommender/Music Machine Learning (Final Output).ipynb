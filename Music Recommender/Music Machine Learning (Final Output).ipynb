{
 "cells": [
  {
   "cell_type": "code",
   "execution_count": 46,
   "id": "200cb396",
   "metadata": {},
   "outputs": [],
   "source": [
    "import pandas as pd"
   ]
  },
  {
   "cell_type": "code",
   "execution_count": 47,
   "id": "c5d26af9",
   "metadata": {},
   "outputs": [],
   "source": [
    "import sklearn"
   ]
  },
  {
   "cell_type": "code",
   "execution_count": 48,
   "id": "9e4f29c8",
   "metadata": {},
   "outputs": [],
   "source": [
    "df = pd.read_csv('Music.csv')"
   ]
  },
  {
   "cell_type": "code",
   "execution_count": 49,
   "id": "fbea79c1",
   "metadata": {},
   "outputs": [],
   "source": [
    "#drop columns"
   ]
  },
  {
   "cell_type": "code",
   "execution_count": 50,
   "id": "d61d2b00",
   "metadata": {},
   "outputs": [],
   "source": [
    "#separate dataset"
   ]
  },
  {
   "cell_type": "code",
   "execution_count": 51,
   "id": "e4f31f0e",
   "metadata": {},
   "outputs": [],
   "source": [
    "df_music = df.drop(columns = ['genre'])"
   ]
  },
  {
   "cell_type": "code",
   "execution_count": 52,
   "id": "27b5ecad",
   "metadata": {},
   "outputs": [],
   "source": [
    "df_genre = df['genre']"
   ]
  },
  {
   "cell_type": "code",
   "execution_count": 53,
   "id": "28453ccc",
   "metadata": {},
   "outputs": [],
   "source": [
    "#build a model"
   ]
  },
  {
   "cell_type": "code",
   "execution_count": 54,
   "id": "1c5fa17f",
   "metadata": {},
   "outputs": [],
   "source": [
    "#test model predictions"
   ]
  },
  {
   "cell_type": "code",
   "execution_count": 55,
   "id": "7c896062",
   "metadata": {},
   "outputs": [],
   "source": [
    "from sklearn.tree import DecisionTreeClassifier"
   ]
  },
  {
   "cell_type": "code",
   "execution_count": 56,
   "id": "b88747fb",
   "metadata": {},
   "outputs": [],
   "source": [
    "import joblib"
   ]
  },
  {
   "cell_type": "code",
   "execution_count": 57,
   "id": "8d4eb05f",
   "metadata": {},
   "outputs": [
    {
     "data": {
      "text/plain": [
       "['music_recommender.joblib']"
      ]
     },
     "execution_count": 57,
     "metadata": {},
     "output_type": "execute_result"
    }
   ],
   "source": [
    "test_model = DecisionTreeClassifier()\n",
    "test_model.fit(df_music, df_genre)\n",
    "\n",
    "joblib.dump(test_model, 'music_recommender.joblib')\n",
    "\n",
    "# test_model_predictions = test_model.predict([ [21, 1], [23, 0] ])"
   ]
  },
  {
   "cell_type": "code",
   "execution_count": null,
   "id": "6a1eb283",
   "metadata": {},
   "outputs": [],
   "source": []
  }
 ],
 "metadata": {
  "kernelspec": {
   "display_name": "Python 3 (ipykernel)",
   "language": "python",
   "name": "python3"
  },
  "language_info": {
   "codemirror_mode": {
    "name": "ipython",
    "version": 3
   },
   "file_extension": ".py",
   "mimetype": "text/x-python",
   "name": "python",
   "nbconvert_exporter": "python",
   "pygments_lexer": "ipython3",
   "version": "3.11.7"
  }
 },
 "nbformat": 4,
 "nbformat_minor": 5
}
